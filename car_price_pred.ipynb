{
 "cells": [
  {
   "cell_type": "code",
   "execution_count": null,
   "id": "ab0bef98-e751-4509-b1ab-4873aa8d4fc2",
   "metadata": {},
   "outputs": [],
   "source": [
    "# 🚗 Car Price Prediction Project\n",
    "This project predicts the selling price of a car based on its features such as year, mileage, and fuel type.  \n",
    "I created this as part of my internship to understand how machine learning models can be applied to real-world data.\n"
   ]
  },
  {
   "cell_type": "code",
   "execution_count": 2,
   "id": "9fc4fc19-46ae-4842-a5af-b41237cbf12e",
   "metadata": {},
   "outputs": [],
   "source": [
    "import numpy as np\n",
    "import pandas as pd\n",
    "import matplotlib.pyplot as plt\n",
    "\n"
   ]
  }
 ],
 "metadata": {
  "kernelspec": {
   "display_name": "Python [conda env:base] *",
   "language": "python",
   "name": "conda-base-py"
  },
  "language_info": {
   "codemirror_mode": {
    "name": "ipython",
    "version": 3
   },
   "file_extension": ".py",
   "mimetype": "text/x-python",
   "name": "python",
   "nbconvert_exporter": "python",
   "pygments_lexer": "ipython3",
   "version": "3.13.5"
  }
 },
 "nbformat": 4,
 "nbformat_minor": 5
}
